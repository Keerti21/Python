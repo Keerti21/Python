{
 "cells": [
  {
   "cell_type": "code",
   "execution_count": null,
   "metadata": {},
   "outputs": [],
   "source": [
    "## Advantages Decision Tree\n",
    "1.  It is  very simple and understanding \n",
    "2. It consider both Categorial and Numerical data\n",
    "3. It is non parametic algorithm\n"
   ]
  },
  {
   "cell_type": "code",
   "execution_count": null,
   "metadata": {},
   "outputs": [],
   "source": [
    "###  Disadvantages \n",
    "1. It can be highly time- comsupt\n",
    "2. Expansive process\n",
    "3. Sensitive towards Biasness\n",
    "4. Difficult to handle Numerous Outcomes\n",
    "5. hard to interpret "
   ]
  }
 ],
 "metadata": {
  "kernelspec": {
   "display_name": "Python 3",
   "language": "python",
   "name": "python3"
  },
  "language_info": {
   "codemirror_mode": {
    "name": "ipython",
    "version": 3
   },
   "file_extension": ".py",
   "mimetype": "text/x-python",
   "name": "python",
   "nbconvert_exporter": "python",
   "pygments_lexer": "ipython3",
   "version": "3.6.5"
  }
 },
 "nbformat": 4,
 "nbformat_minor": 2
}
