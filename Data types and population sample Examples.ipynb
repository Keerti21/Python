{
 "cells": [
  {
   "cell_type": "markdown",
   "metadata": {},
   "source": [
    "#Qualitative data quantitative data\n"
   ]
  },
  {
   "cell_type": "markdown",
   "metadata": {},
   "source": [
    "# variable types\n",
    "categorial\n",
    "numerical\n",
    "\n",
    "\n",
    "categorial types(qualitative):nomial (unorderd)\n",
    "                ordinal  (orderd)\n",
    "    \n",
    "    \n",
    "numerical types(quantitative):\n",
    "    discrete:int\n",
    "    continuous:float"
   ]
  },
  {
   "cell_type": "markdown",
   "metadata": {},
   "source": [
    " Nomial Example:\n",
    " * Gender\n",
    " * Eye color\n",
    " * color\n",
    " * Name of Student\n",
    " * student email\n",
    " * \n",
    " "
   ]
  },
  {
   "cell_type": "markdown",
   "metadata": {},
   "source": [
    "Ordinal Example:\n",
    "    * Grades\n",
    "    * Education level\n",
    "    * seniority level\n",
    "    *  places in a race\n",
    "    * levels of income\n",
    "    * frequency of activity\n",
    "    * agreement level\n",
    "    * Expertise\n",
    "    \n",
    "    "
   ]
  },
  {
   "cell_type": "markdown",
   "metadata": {},
   "source": [
    "Discrete Example: Things you can counts\n",
    "    * Number of student\n",
    "    * family member\n",
    "    * votes\n",
    "    * Pets\n",
    "    * Books Owned\n",
    "    "
   ]
  },
  {
   "cell_type": "markdown",
   "metadata": {},
   "source": [
    "continuous Example:  Things  you can measure \n",
    "    * time\n",
    "    * age\n",
    "    * temperature\n",
    "    * weight\n",
    "    * Height"
   ]
  },
  {
   "cell_type": "raw",
   "metadata": {},
   "source": [
    " Populations Examples:\n",
    "         * job advertisment\n",
    "         *  world\n",
    "         * songs of films\n",
    "         *undergraduate  students of cellage\n",
    "         * All countries of world\n",
    "         *  100 kg wheat\n",
    "         * students in the class\n",
    "         *  food of marriage\n",
    "         *   river\n",
    "         *  plants\n",
    "         \n",
    "        \n",
    "        "
   ]
  },
  {
   "cell_type": "markdown",
   "metadata": {},
   "source": [
    "Sample Examples:\n",
    "    * Blood Sample\n",
    "    * water sample\n",
    "    * sample of makeup product\n",
    "    * soil sample\n",
    "    * Testing of food\n",
    "    *  sample wheat\n",
    "    * 30 undergraducate  student\n",
    "    *  top 50 job\n",
    "    * favourite song\n",
    "    * rice sample"
   ]
  },
  {
   "cell_type": "code",
   "execution_count": null,
   "metadata": {},
   "outputs": [],
   "source": []
  },
  {
   "cell_type": "code",
   "execution_count": null,
   "metadata": {},
   "outputs": [],
   "source": []
  }
 ],
 "metadata": {
  "kernelspec": {
   "display_name": "Python 3",
   "language": "python",
   "name": "python3"
  },
  "language_info": {
   "codemirror_mode": {
    "name": "ipython",
    "version": 3
   },
   "file_extension": ".py",
   "mimetype": "text/x-python",
   "name": "python",
   "nbconvert_exporter": "python",
   "pygments_lexer": "ipython3",
   "version": "3.6.5"
  }
 },
 "nbformat": 4,
 "nbformat_minor": 2
}
