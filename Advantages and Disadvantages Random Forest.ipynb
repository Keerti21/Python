{
 "cells": [
  {
   "cell_type": "code",
   "execution_count": null,
   "metadata": {},
   "outputs": [],
   "source": [
    "### Advantages of Random Forest\n",
    "1 It reduces overfitting in decision trees and helps to improve the accuracy\n",
    "2. It is flexible to both classification and regression problems\n",
    "3. It  works as well with both categorial and continuous data\n",
    "4. It automates missing values present in the data\n",
    "5. \n"
   ]
  },
  {
   "cell_type": "code",
   "execution_count": null,
   "metadata": {},
   "outputs": [],
   "source": [
    "## Disadvantages of Random Forest\n",
    "1. It requires much computational power as well as resources as it builds numerous trees to combine their outputs\n",
    "2. It also requries much time for training as it combines a lot of decision trees to determine the class\n",
    "3. It fails to determine the significance of each variable"
   ]
  },
  {
   "cell_type": "code",
   "execution_count": null,
   "metadata": {},
   "outputs": [],
   "source": []
  },
  {
   "cell_type": "code",
   "execution_count": null,
   "metadata": {},
   "outputs": [],
   "source": []
  }
 ],
 "metadata": {
  "kernelspec": {
   "display_name": "Python 3",
   "language": "python",
   "name": "python3"
  },
  "language_info": {
   "codemirror_mode": {
    "name": "ipython",
    "version": 3
   },
   "file_extension": ".py",
   "mimetype": "text/x-python",
   "name": "python",
   "nbconvert_exporter": "python",
   "pygments_lexer": "ipython3",
   "version": "3.6.5"
  }
 },
 "nbformat": 4,
 "nbformat_minor": 2
}
