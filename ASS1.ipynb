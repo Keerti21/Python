{
 "cells": [
  {
   "cell_type": "code",
   "execution_count": 1,
   "metadata": {},
   "outputs": [
    {
     "name": "stdout",
     "output_type": "stream",
     "text": [
      "b\n",
      "a\n",
      "n\n",
      "a\n",
      "n\n",
      "a\n"
     ]
    }
   ],
   "source": [
    "for x in \"banana\":\n",
    "    print(x)"
   ]
  },
  {
   "cell_type": "code",
   "execution_count": 2,
   "metadata": {},
   "outputs": [
    {
     "name": "stdout",
     "output_type": "stream",
     "text": [
      "1\n",
      "4\n",
      "9\n",
      "16\n",
      "25\n",
      "36\n",
      "49\n",
      "64\n",
      "81\n",
      "100\n",
      "121\n",
      "144\n",
      "169\n",
      "196\n",
      "225\n",
      "256\n",
      "289\n",
      "324\n",
      "361\n",
      "400\n"
     ]
    }
   ],
   "source": [
    "for x in range(1,21):\n",
    "    S=x**2\n",
    "    print(S)"
   ]
  },
  {
   "cell_type": "code",
   "execution_count": 3,
   "metadata": {},
   "outputs": [
    {
     "name": "stdout",
     "output_type": "stream",
     "text": [
      "400\n"
     ]
    }
   ],
   "source": [
    "print(S)"
   ]
  },
  {
   "cell_type": "code",
   "execution_count": 4,
   "metadata": {},
   "outputs": [
    {
     "name": "stdout",
     "output_type": "stream",
     "text": [
      "83\n",
      "45\n"
     ]
    }
   ],
   "source": [
    "m=[5,4,83,2,45,6]\n",
    "for i in m:\n",
    "    if i>20:\n",
    "        print(i)"
   ]
  },
  {
   "cell_type": "code",
   "execution_count": 5,
   "metadata": {},
   "outputs": [
    {
     "name": "stdout",
     "output_type": "stream",
     "text": [
      "t\n",
      "a\n",
      "t\n",
      "i\n",
      "t\n",
      "i\n",
      "c\n"
     ]
    }
   ],
   "source": [
    "s=\"statistics\"\n",
    "for  i in s:\n",
    "    if i!=\"s\":\n",
    "        print(i)"
   ]
  },
  {
   "cell_type": "code",
   "execution_count": null,
   "metadata": {},
   "outputs": [],
   "source": []
  },
  {
   "cell_type": "code",
   "execution_count": 6,
   "metadata": {},
   "outputs": [
    {
     "name": "stdout",
     "output_type": "stream",
     "text": [
      "[20]\n"
     ]
    }
   ],
   "source": [
    "\n",
    "for x in range(1,21):\n",
    "    a=[]\n",
    "    a.append(x)\n",
    "print(a)"
   ]
  },
  {
   "cell_type": "code",
   "execution_count": 7,
   "metadata": {},
   "outputs": [
    {
     "name": "stdout",
     "output_type": "stream",
     "text": [
      "[0, 1, 2, 3, 4, 5, 6, 7, 8, 9, 10, 11, 12, 13, 14, 15, 16, 17, 18, 19, 20]\n"
     ]
    }
   ],
   "source": [
    "a=[]\n",
    "i=0\n",
    "while i<21:\n",
    "    a.append(i)\n",
    "    i=i+1\n",
    "print(a)"
   ]
  },
  {
   "cell_type": "code",
   "execution_count": 8,
   "metadata": {},
   "outputs": [
    {
     "name": "stdout",
     "output_type": "stream",
     "text": [
      "[20, 19, 18, 17, 16, 15, 14, 13, 12, 11, 10, 9, 8, 7, 6, 5, 4, 3, 2, 1]\n"
     ]
    }
   ],
   "source": [
    "a=[]\n",
    "for x in range(1,21):\n",
    "    a.insert(0,x)  #zero position insert \n",
    "print(a)"
   ]
  },
  {
   "cell_type": "code",
   "execution_count": 9,
   "metadata": {},
   "outputs": [
    {
     "name": "stdout",
     "output_type": "stream",
     "text": [
      "[20, 19, 18, 17, 16, 15, 14, 13, 12, 11, 10, 9, 8, 7, 6, 5, 4, 3, 2, 1, 0]\n"
     ]
    }
   ],
   "source": [
    "a=[]\n",
    "i=0\n",
    "while i<21:\n",
    "    a.insert(0,i)\n",
    "    i=i+1\n",
    "print(a)"
   ]
  },
  {
   "cell_type": "code",
   "execution_count": 10,
   "metadata": {},
   "outputs": [
    {
     "name": "stdout",
     "output_type": "stream",
     "text": [
      "[20, 19, 18, 17, 16, 15, 14, 13, 12, 11, 10, 9, 8, 7, 6, 5, 4, 3, 2, 1]\n"
     ]
    }
   ],
   "source": [
    "a=[]\n",
    "for x in range(1,21):\n",
    "    a.append(x)\n",
    "print(a[::-1])\n",
    "\n"
   ]
  },
  {
   "cell_type": "code",
   "execution_count": 11,
   "metadata": {},
   "outputs": [
    {
     "name": "stdout",
     "output_type": "stream",
     "text": [
      "[20, 19, 18, 17, 16, 15, 14, 13, 12, 11, 10, 9, 8, 7, 6, 5, 4, 3, 2, 1]\n"
     ]
    }
   ],
   "source": [
    "a=[]\n",
    "for x in range(20,0,-1):\n",
    "    a.append(x)\n",
    "print(a)\n",
    "\n"
   ]
  },
  {
   "cell_type": "code",
   "execution_count": 12,
   "metadata": {},
   "outputs": [
    {
     "name": "stdout",
     "output_type": "stream",
     "text": [
      "9261\n",
      "12167\n",
      "15625\n",
      "19683\n",
      "24389\n",
      "29791\n",
      "35937\n",
      "42875\n",
      "50653\n",
      "59319\n"
     ]
    }
   ],
   "source": [
    "for x in range(20,41):\n",
    "    if x%2!=0:\n",
    "        print(x**3)"
   ]
  },
  {
   "cell_type": "code",
   "execution_count": 13,
   "metadata": {},
   "outputs": [
    {
     "name": "stdout",
     "output_type": "stream",
     "text": [
      "1\n",
      "27\n",
      "125\n",
      "343\n",
      "729\n",
      "1331\n",
      "2197\n",
      "3375\n",
      "4913\n",
      "6859\n"
     ]
    }
   ],
   "source": [
    "i=0\n",
    "while 20>i<41:\n",
    "    i=i+1\n",
    "    if i%2==1:\n",
    "        print(i**3)\n",
    "    "
   ]
  },
  {
   "cell_type": "code",
   "execution_count": 14,
   "metadata": {},
   "outputs": [
    {
     "name": "stdout",
     "output_type": "stream",
     "text": [
      "my name is Keerti my age is 20\n",
      "my name is Divya my age is 19\n",
      "my name is pushapa my age is 18\n",
      "my name is Arpita my age is 21\n",
      "my name is Akshata my age is 20\n"
     ]
    }
   ],
   "source": [
    "name=[\"Keerti\",\"Divya\",\"pushapa\",\"Arpita\",\"Akshata\"]\n",
    "age=[20,19,18,21,20]\n",
    "for x in range(len(name)):\n",
    "    print(\"my name is\",name[x],\"my age is\",age[x])"
   ]
  },
  {
   "cell_type": "code",
   "execution_count": null,
   "metadata": {},
   "outputs": [],
   "source": [
    "name=[\"Keerti\",\"Divya\",\"pushapa\",\"Arpita\",\"Akshata\"]\n",
    "age=[20,19,18,21,20]\n",
    "i=0\n",
    "while i<len(name):\n",
    "    print(\"my name is\",name[i],\"my age is\",age[i])\n",
    "    i=i+1"
   ]
  },
  {
   "cell_type": "code",
   "execution_count": null,
   "metadata": {},
   "outputs": [],
   "source": [
    "for x in range(1,6):\n",
    "    for y in range(0,6):\n",
    "        print(x+y)"
   ]
  },
  {
   "cell_type": "code",
   "execution_count": null,
   "metadata": {},
   "outputs": [],
   "source": []
  },
  {
   "cell_type": "code",
   "execution_count": null,
   "metadata": {},
   "outputs": [],
   "source": [
    "a=[10,20,30,40,50]\n",
    "a[0],a[4]=a[4],a[0]\n",
    "a"
   ]
  },
  {
   "cell_type": "code",
   "execution_count": null,
   "metadata": {},
   "outputs": [],
   "source": [
    "a=[10,20,30,40,50]\n",
    "a[0],a[4]=a[4],a[0]\n",
    "print(a)"
   ]
  },
  {
   "cell_type": "code",
   "execution_count": null,
   "metadata": {},
   "outputs": [],
   "source": [
    "a=\"Keerti\"\n",
    "len(a)"
   ]
  },
  {
   "cell_type": "code",
   "execution_count": null,
   "metadata": {},
   "outputs": [],
   "source": [
    "s=\"Sacheen\"\n",
    "n=0\n",
    "for i in s:\n",
    "    n=n+1\n",
    "n"
   ]
  },
  {
   "cell_type": "code",
   "execution_count": null,
   "metadata": {},
   "outputs": [],
   "source": [
    "s=\"Sacheen\"\n",
    "for i in s:\n",
    "    n=0\n",
    "    n=n+1\n",
    "n"
   ]
  },
  {
   "cell_type": "code",
   "execution_count": null,
   "metadata": {},
   "outputs": [],
   "source": [
    "a=[1,4,-5,-20,10]\n",
    "s=0\n",
    "for x in a:\n",
    "    if x>0:\n",
    "        s=s+x\n",
    "print(s)"
   ]
  },
  {
   "cell_type": "code",
   "execution_count": 21,
   "metadata": {},
   "outputs": [
    {
     "name": "stdout",
     "output_type": "stream",
     "text": [
      "3\n"
     ]
    }
   ],
   "source": [
    "a=[1,4,-5,-20,10,-8,3]\n",
    "\n",
    "for x in a:\n",
    "    s=0\n",
    "    if x>0:\n",
    "        s=s+x\n",
    "print(s)"
   ]
  },
  {
   "cell_type": "code",
   "execution_count": null,
   "metadata": {},
   "outputs": [],
   "source": [
    "a=[1,4,-5,-20,10]\n",
    "s=0\n",
    "i=0\n",
    "while i<len(a):\n",
    "    if i>0:\n",
    "        break\n",
    "        s=s+i\n",
    "    i=i+1\n",
    "    print(s)"
   ]
  },
  {
   "cell_type": "code",
   "execution_count": 17,
   "metadata": {},
   "outputs": [
    {
     "name": "stdout",
     "output_type": "stream",
     "text": [
      "enter the number7\n",
      "factorial of number is 1\n",
      "factorial of number is 2\n",
      "factorial of number is 6\n",
      "factorial of number is 24\n",
      "factorial of number is 120\n",
      "factorial of number is 720\n",
      "factorial of number is 5040\n"
     ]
    }
   ],
   "source": [
    "n=int(input(\"enter the number\"))\n",
    "fac=1\n",
    "for x in  range(1,n+1):\n",
    "    fac=fac*x\n",
    "    print(\"factorial of number is\",fac)"
   ]
  },
  {
   "cell_type": "code",
   "execution_count": 19,
   "metadata": {},
   "outputs": [
    {
     "name": "stdout",
     "output_type": "stream",
     "text": [
      "24\n"
     ]
    }
   ],
   "source": [
    "n=4\n",
    "fac=1\n",
    "i=1\n",
    "while i<=n:\n",
    "    fac=fac*i\n",
    "    i=i+1\n",
    "print(fac)\n"
   ]
  },
  {
   "cell_type": "code",
   "execution_count": null,
   "metadata": {},
   "outputs": [],
   "source": [
    "a=[]\n",
    "i=0\n",
    "while i<21:\n",
    "    a.append(i)\n",
    "    i=i+1\n",
    "print(a)"
   ]
  },
  {
   "cell_type": "code",
   "execution_count": null,
   "metadata": {},
   "outputs": [],
   "source": [
    "a=[]\n",
    "i=0\n",
    "while i<21:\n",
    "    a.insert(0,i)\n",
    "    i=i+1\n",
    "print(a)"
   ]
  },
  {
   "cell_type": "code",
   "execution_count": null,
   "metadata": {},
   "outputs": [],
   "source": [
    "i=0\n",
    "while 20>i<41:\n",
    "    i=i+1\n",
    "    if i%2==1:\n",
    "        print(i**3)\n",
    "    "
   ]
  },
  {
   "cell_type": "code",
   "execution_count": null,
   "metadata": {},
   "outputs": [],
   "source": []
  },
  {
   "cell_type": "code",
   "execution_count": null,
   "metadata": {},
   "outputs": [],
   "source": []
  },
  {
   "cell_type": "code",
   "execution_count": null,
   "metadata": {},
   "outputs": [],
   "source": []
  },
  {
   "cell_type": "code",
   "execution_count": null,
   "metadata": {},
   "outputs": [],
   "source": []
  }
 ],
 "metadata": {
  "kernelspec": {
   "display_name": "Python 3",
   "language": "python",
   "name": "python3"
  },
  "language_info": {
   "codemirror_mode": {
    "name": "ipython",
    "version": 3
   },
   "file_extension": ".py",
   "mimetype": "text/x-python",
   "name": "python",
   "nbconvert_exporter": "python",
   "pygments_lexer": "ipython3",
   "version": "3.6.5"
  }
 },
 "nbformat": 4,
 "nbformat_minor": 2
}
