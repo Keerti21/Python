{
 "cells": [
  {
   "cell_type": "markdown",
   "metadata": {},
   "source": [
    "With Replacement Sample Examples:\n",
    "    * Tossing Coin\n",
    "    *  playing card\n",
    "    *   admission process\n",
    "    *  \n",
    "    *"
   ]
  },
  {
   "cell_type": "markdown",
   "metadata": {},
   "source": [
    "Without Replacement Sample Example:\n",
    "    * voting\n",
    "    * prize\n",
    "    * Rank\n",
    "    * Blood\n",
    "    "
   ]
  },
  {
   "cell_type": "markdown",
   "metadata": {},
   "source": [
    "Probability Examples:\n",
    "   Probability= no of success/total possible outcomes\n",
    "    * throwing a die\n",
    "    * tossing a coin\n",
    "    * card \n",
    "    *  all type colour balls in basket\n",
    "    *   find sunday in leap year \n",
    "    "
   ]
  },
  {
   "cell_type": "code",
   "execution_count": null,
   "metadata": {},
   "outputs": [],
   "source": []
  }
 ],
 "metadata": {
  "kernelspec": {
   "display_name": "Python 3",
   "language": "python",
   "name": "python3"
  },
  "language_info": {
   "codemirror_mode": {
    "name": "ipython",
    "version": 3
   },
   "file_extension": ".py",
   "mimetype": "text/x-python",
   "name": "python",
   "nbconvert_exporter": "python",
   "pygments_lexer": "ipython3",
   "version": "3.6.5"
  }
 },
 "nbformat": 4,
 "nbformat_minor": 2
}
