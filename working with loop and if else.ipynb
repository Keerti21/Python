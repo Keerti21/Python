{
 "cells": [
  {
   "cell_type": "code",
   "execution_count": 4,
   "metadata": {},
   "outputs": [
    {
     "name": "stdout",
     "output_type": "stream",
     "text": [
      "<class 'list'>\n"
     ]
    }
   ],
   "source": [
    "s=[\"rashmi\",\"arpita\",\"goa\",\"trip\"]\n",
    "print(type(s))"
   ]
  },
  {
   "cell_type": "code",
   "execution_count": 5,
   "metadata": {},
   "outputs": [
    {
     "name": "stdout",
     "output_type": "stream",
     "text": [
      "['key', 'schol', 'don', 'sun', 'moon', 'gk']\n"
     ]
    }
   ],
   "source": [
    "s=[\"key\",\"schol\",\"don\",\"sun\",\"moon\"]\n",
    "s.append(\"gk\")\n",
    "print(s)"
   ]
  },
  {
   "cell_type": "code",
   "execution_count": 6,
   "metadata": {},
   "outputs": [
    {
     "name": "stdout",
     "output_type": "stream",
     "text": [
      "sache\n"
     ]
    }
   ],
   "source": [
    "name=\"sacheen\"\n",
    "ab=name[:-2]\n",
    "print(ab)"
   ]
  },
  {
   "cell_type": "code",
   "execution_count": 7,
   "metadata": {},
   "outputs": [
    {
     "name": "stdout",
     "output_type": "stream",
     "text": [
      "sache\n"
     ]
    }
   ],
   "source": [
    "name=\"sacheen\"\n",
    "ab=name[:-2]\n",
    "s=ab+\"san\"\n",
    "print(ab)"
   ]
  },
  {
   "cell_type": "code",
   "execution_count": 8,
   "metadata": {},
   "outputs": [
    {
     "name": "stdout",
     "output_type": "stream",
     "text": [
      "k\n",
      "e\n",
      "e\n",
      "r\n",
      "t\n",
      "i\n",
      "n\n",
      "i\n",
      "k\n",
      "i\n",
      "t\n",
      "a\n",
      "s\n",
      "h\n",
      "r\n",
      "e\n",
      "e\n",
      "d\n",
      "i\n",
      "s\n",
      "h\n",
      "a\n"
     ]
    }
   ],
   "source": [
    "name=[\"keerti\",\"nikita\",\"shree\",\"disha\"]\n",
    "for x in name:\n",
    "    for y in x:\n",
    "        print(y)\n"
   ]
  },
  {
   "cell_type": "code",
   "execution_count": 9,
   "metadata": {},
   "outputs": [
    {
     "name": "stdout",
     "output_type": "stream",
     "text": [
      "machine learning\n",
      "machine learning\n",
      "machine learning\n",
      "machine learning\n",
      "machine learning\n",
      "machine learning\n",
      "machine learning\n",
      "machine learning\n",
      "machine learning\n",
      "machine learning\n",
      "machine learning\n",
      "machine learning\n",
      "machine learning\n",
      "machine learning\n",
      "machine learning\n",
      "machine learning\n",
      "machine learning\n"
     ]
    }
   ],
   "source": [
    "a=[\"sanu\",\"saru\",\"teju\",\"sanju\"]\n",
    "for x in a:\n",
    "    for y in x:\n",
    "        print(\"machine learning\")"
   ]
  },
  {
   "cell_type": "code",
   "execution_count": 10,
   "metadata": {},
   "outputs": [
    {
     "name": "stdout",
     "output_type": "stream",
     "text": [
      "satisha\n",
      "sacheen\n",
      "anil\n",
      "vrushba\n",
      "shital\n"
     ]
    }
   ],
   "source": [
    "H=[\"satisha\",\"sacheen\",\"anil\",\"vrushba\",\"shital\"]\n",
    "for x in H:\n",
    "    print(x)"
   ]
  },
  {
   "cell_type": "code",
   "execution_count": 11,
   "metadata": {},
   "outputs": [
    {
     "name": "stdout",
     "output_type": "stream",
     "text": [
      "chaitra\n",
      "keerti\n",
      "pinki\n",
      "ravati\n",
      "sonu\n"
     ]
    }
   ],
   "source": [
    "h=[\"chaitra\",\"keerti\",\"pinki\",\"ravati\",\"sonu\"]\n",
    "for x in h:\n",
    "    print(x)"
   ]
  },
  {
   "cell_type": "code",
   "execution_count": 12,
   "metadata": {},
   "outputs": [
    {
     "name": "stdout",
     "output_type": "stream",
     "text": [
      "['satisha', 'sacheen', 'anil', 'vrushba', 'shital', 'chaitra', 'keerti', 'pinki', 'ravati', 'sonu']\n"
     ]
    }
   ],
   "source": [
    "ab=H+h\n",
    "print(ab)"
   ]
  },
  {
   "cell_type": "code",
   "execution_count": 13,
   "metadata": {},
   "outputs": [
    {
     "name": "stdout",
     "output_type": "stream",
     "text": [
      "satisha chaitra\n"
     ]
    }
   ],
   "source": [
    "H=[\"satisha\",\"sacheen\",\"anil\",\"vrushba\",\"shital\"]\n",
    "h=[\"chaitra\",\"keerti\",\"pinki\",\"ravati\",\"sonu\"]\n",
    "print(H[0],h[0])"
   ]
  },
  {
   "cell_type": "code",
   "execution_count": 14,
   "metadata": {},
   "outputs": [
    {
     "name": "stdout",
     "output_type": "stream",
     "text": [
      "satisha chaitra\n",
      "sacheen keerti\n",
      "anil pinki\n",
      "vrushba ravati\n",
      "shital sonu\n"
     ]
    }
   ],
   "source": [
    "H=[\"satisha\",\"sacheen\",\"anil\",\"vrushba\",\"shital\"]\n",
    "h=[\"chaitra\",\"keerti\",\"pinki\",\"ravati\",\"sonu\"]\n",
    "for x in range(5):\n",
    "    print(H[x],h[x])"
   ]
  },
  {
   "cell_type": "code",
   "execution_count": 15,
   "metadata": {},
   "outputs": [
    {
     "name": "stdout",
     "output_type": "stream",
     "text": [
      "s\n"
     ]
    }
   ],
   "source": [
    "H=[\"satisha\",\"sacheen\",\"anil\",\"vrushba\",\"shital\"]\n",
    "for x in H:\n",
    "    ab=x[-3]\n",
    "    break\n",
    "print(ab)"
   ]
  },
  {
   "cell_type": "code",
   "execution_count": 16,
   "metadata": {},
   "outputs": [
    {
     "name": "stdout",
     "output_type": "stream",
     "text": [
      "s\n",
      "e\n",
      "n\n",
      "h\n",
      "t\n"
     ]
    }
   ],
   "source": [
    "H=[\"satisha\",\"sacheen\",\"anil\",\"vrushba\",\"shital\"]\n",
    "for x in H:\n",
    "    ab=x[-3]\n",
    "    print(ab)"
   ]
  },
  {
   "cell_type": "code",
   "execution_count": 17,
   "metadata": {},
   "outputs": [
    {
     "name": "stdout",
     "output_type": "stream",
     "text": [
      "sati satigood\n",
      "sach sachgood\n",
      "a agood\n",
      "vrus vrusgood\n",
      "shi shigood\n"
     ]
    }
   ],
   "source": [
    "H=[\"satisha\",\"sacheen\",\"anil\",\"vrushba\",\"shital\"]\n",
    "for x in H:\n",
    "    ab=x[:-3]\n",
    "    s=ab+ \"good\"\n",
    "    print(ab,s)"
   ]
  },
  {
   "cell_type": "code",
   "execution_count": 1,
   "metadata": {},
   "outputs": [
    {
     "name": "stdout",
     "output_type": "stream",
     "text": [
      "name:\n",
      "name:\n",
      "name:\n",
      "name:\n",
      "name:\n"
     ]
    }
   ],
   "source": [
    "for x in range(5):\n",
    "    ab=input(\"name:\")\n",
    "\n",
    "    "
   ]
  },
  {
   "cell_type": "code",
   "execution_count": 2,
   "metadata": {},
   "outputs": [
    {
     "name": "stdout",
     "output_type": "stream",
     "text": [
      "enter the fruits name:\n",
      "enter the fruits name:\n",
      "enter the fruits name:\n",
      "enter the fruits name:\n",
      "enter the fruits name:\n",
      "['', '', '', '', '']\n"
     ]
    }
   ],
   "source": [
    "fruits=[]\n",
    "for  x in range(5):\n",
    "    name=input(\"enter the fruits name:\")\n",
    "    fruits.append(name)\n",
    "print(fruits)"
   ]
  },
  {
   "cell_type": "code",
   "execution_count": 3,
   "metadata": {},
   "outputs": [
    {
     "name": "stdout",
     "output_type": "stream",
     "text": [
      "enter the fruits name:\n",
      "enter the fruits name:\n",
      "enter the fruits name:\n",
      "enter the fruits name:\n",
      "enter the fruits name:\n",
      "['', '', '', '', '', '', '', '', '', '']\n"
     ]
    }
   ],
   "source": [
    "for  x in range(5):\n",
    "    name=input(\"enter the fruits name:\")\n",
    "    fruits.append(name)\n",
    "print(fruits)"
   ]
  },
  {
   "cell_type": "code",
   "execution_count": 4,
   "metadata": {},
   "outputs": [
    {
     "name": "stdout",
     "output_type": "stream",
     "text": [
      "enter the fruits name:\n",
      "enter the fruits name:\n",
      "enter the fruits name:\n",
      "enter the fruits name:\n",
      "enter the fruits name:\n",
      "['', '', '', '', '', '', '', '', '', '', '', '', '', '', '']\n"
     ]
    }
   ],
   "source": [
    "c=[]\n",
    "c=fruits\n",
    "for  x in range(5):\n",
    "    name=input(\"enter the fruits name:\")\n",
    "    fruits.append(name)\n",
    "print(fruits)"
   ]
  },
  {
   "cell_type": "code",
   "execution_count": 5,
   "metadata": {},
   "outputs": [
    {
     "name": "stdout",
     "output_type": "stream",
     "text": [
      "enter the fruits name:\n",
      "['']\n",
      "enter the fruits name:\n",
      "['', '']\n",
      "enter the fruits name:\n",
      "['', '', '']\n",
      "enter the fruits name:\n",
      "['', '', '', '']\n",
      "enter the fruits name:\n",
      "['', '', '', '', '']\n"
     ]
    }
   ],
   "source": [
    "c=[]\n",
    "for  x in range(5):\n",
    "    name=input(\"enter the fruits name:\")\n",
    "    c.append(name)\n",
    "    print(c)"
   ]
  },
  {
   "cell_type": "code",
   "execution_count": 6,
   "metadata": {},
   "outputs": [
    {
     "name": "stdout",
     "output_type": "stream",
     "text": [
      "enter the fruits name:\n",
      "enter the fruits name:\n",
      "enter the fruits name:\n",
      "enter the fruits name:\n",
      "enter the fruits name:\n",
      "['', '', '', '', '']\n"
     ]
    }
   ],
   "source": [
    "fruits=[]\n",
    "for  x in range(5):\n",
    "    name=input(\"enter the fruits name:\")\n",
    "    fruits.append(name)\n",
    "print(fruits)"
   ]
  },
  {
   "cell_type": "code",
   "execution_count": 9,
   "metadata": {},
   "outputs": [
    {
     "name": "stdout",
     "output_type": "stream",
     "text": [
      "enter the fruits name:k\n",
      "enter the fruits name:kl\n",
      "enter the fruits name:kl\n",
      "enter the fruits name:uk\n",
      "enter the fruits name:hk\n"
     ]
    }
   ],
   "source": [
    "fruits=[]\n",
    "for  x in range(5):\n",
    "    name=input(\"enter the fruits name:\")\n",
    "    fruits.append(name)\n",
    "    "
   ]
  },
  {
   "cell_type": "code",
   "execution_count": 10,
   "metadata": {},
   "outputs": [
    {
     "name": "stdout",
     "output_type": "stream",
     "text": [
      "['k', 'kl', 'kl', 'uk', 'hk']\n"
     ]
    }
   ],
   "source": [
    "print(fruits)"
   ]
  },
  {
   "cell_type": "code",
   "execution_count": 11,
   "metadata": {},
   "outputs": [],
   "source": [
    "fruits.remove(\"hk\")"
   ]
  },
  {
   "cell_type": "code",
   "execution_count": 12,
   "metadata": {},
   "outputs": [
    {
     "name": "stdout",
     "output_type": "stream",
     "text": [
      "['k', 'kl', 'kl', 'uk']\n"
     ]
    }
   ],
   "source": [
    "print(fruits)"
   ]
  },
  {
   "cell_type": "code",
   "execution_count": 13,
   "metadata": {},
   "outputs": [
    {
     "data": {
      "text/plain": [
       "'uk'"
      ]
     },
     "execution_count": 13,
     "metadata": {},
     "output_type": "execute_result"
    }
   ],
   "source": [
    "fruits.pop()"
   ]
  },
  {
   "cell_type": "code",
   "execution_count": 14,
   "metadata": {},
   "outputs": [
    {
     "data": {
      "text/plain": [
       "'kl'"
      ]
     },
     "execution_count": 14,
     "metadata": {},
     "output_type": "execute_result"
    }
   ],
   "source": [
    "fruits.pop()"
   ]
  },
  {
   "cell_type": "code",
   "execution_count": 15,
   "metadata": {},
   "outputs": [
    {
     "data": {
      "text/plain": [
       "'kl'"
      ]
     },
     "execution_count": 15,
     "metadata": {},
     "output_type": "execute_result"
    }
   ],
   "source": [
    "fruits.pop()"
   ]
  },
  {
   "cell_type": "code",
   "execution_count": 16,
   "metadata": {},
   "outputs": [
    {
     "name": "stdout",
     "output_type": "stream",
     "text": [
      "['k']\n"
     ]
    }
   ],
   "source": [
    "print(fruits)"
   ]
  },
  {
   "cell_type": "code",
   "execution_count": 20,
   "metadata": {},
   "outputs": [],
   "source": [
    "fruits.append(\"hk\")"
   ]
  },
  {
   "cell_type": "code",
   "execution_count": 25,
   "metadata": {},
   "outputs": [
    {
     "name": "stdout",
     "output_type": "stream",
     "text": [
      "0 0\n",
      "0 1\n",
      "1 0\n",
      "1 1\n",
      "2 0\n",
      "2 1\n",
      "3 0\n",
      "3 1\n"
     ]
    }
   ],
   "source": [
    "for x in range(4):\n",
    "    for y in range(2):\n",
    "        print(x,y)"
   ]
  },
  {
   "cell_type": "code",
   "execution_count": 26,
   "metadata": {},
   "outputs": [
    {
     "name": "stdout",
     "output_type": "stream",
     "text": [
      "0\n",
      "1\n",
      "2\n",
      "3\n"
     ]
    }
   ],
   "source": [
    "for x in range(4):\n",
    "    print(x)"
   ]
  },
  {
   "cell_type": "code",
   "execution_count": 27,
   "metadata": {},
   "outputs": [
    {
     "name": "stdout",
     "output_type": "stream",
     "text": [
      "0\n",
      "1\n"
     ]
    }
   ],
   "source": [
    "for y in range(2):\n",
    "        print(y)"
   ]
  },
  {
   "cell_type": "code",
   "execution_count": 28,
   "metadata": {},
   "outputs": [
    {
     "name": "stdout",
     "output_type": "stream",
     "text": [
      "data\n",
      "data\n",
      "data\n",
      "data\n",
      "data\n",
      "data\n",
      "data\n",
      "data\n"
     ]
    }
   ],
   "source": [
    "for x in range(4):\n",
    "    for y in range(2):\n",
    "        print(\"data\")\n",
    "    "
   ]
  },
  {
   "cell_type": "code",
   "execution_count": 30,
   "metadata": {},
   "outputs": [
    {
     "name": "stdout",
     "output_type": "stream",
     "text": [
      "0 0\n",
      "0 1\n",
      "0 2\n",
      "0 3\n",
      "1 0\n",
      "1 1\n",
      "1 2\n",
      "1 3\n"
     ]
    }
   ],
   "source": [
    "for y in range(2):\n",
    "    for x in range(4):\n",
    "            print(y,x)"
   ]
  },
  {
   "cell_type": "code",
   "execution_count": 31,
   "metadata": {},
   "outputs": [
    {
     "name": "stdout",
     "output_type": "stream",
     "text": [
      "0 0 0\n",
      "0 0 1\n",
      "0 0 2\n",
      "0 0 3\n",
      "0 1 0\n",
      "0 1 1\n",
      "0 1 2\n",
      "0 1 3\n",
      "0 2 0\n",
      "0 2 1\n",
      "0 2 2\n",
      "0 2 3\n",
      "1 0 0\n",
      "1 0 1\n",
      "1 0 2\n",
      "1 0 3\n",
      "1 1 0\n",
      "1 1 1\n",
      "1 1 2\n",
      "1 1 3\n",
      "1 2 0\n",
      "1 2 1\n",
      "1 2 2\n",
      "1 2 3\n"
     ]
    }
   ],
   "source": [
    "for x in range(2):\n",
    "    for y in range(3):\n",
    "        for z in range(4):\n",
    "            print(x,y,z)"
   ]
  },
  {
   "cell_type": "code",
   "execution_count": 35,
   "metadata": {},
   "outputs": [
    {
     "name": "stdout",
     "output_type": "stream",
     "text": [
      "home : n s s\n",
      "home : n s k\n",
      "home : n t s\n",
      "home : n t k\n",
      "home : n r s\n",
      "home : n r k\n",
      "home : a s s\n",
      "home : a s k\n",
      "home : a t s\n",
      "home : a t k\n",
      "home : a r s\n",
      "home : a r k\n",
      "home : m s s\n",
      "home : m s k\n",
      "home : m t s\n",
      "home : m t k\n",
      "home : m r s\n",
      "home : m r k\n",
      "home : e s s\n",
      "home : e s k\n",
      "home : e t s\n",
      "home : e t k\n",
      "home : e r s\n",
      "home : e r k\n"
     ]
    }
   ],
   "source": [
    "for x in 'name':\n",
    "    for y in \"str\":\n",
    "        for z in \"sk\":\n",
    "            print(\"home :\",x,y,z)"
   ]
  },
  {
   "cell_type": "code",
   "execution_count": null,
   "metadata": {},
   "outputs": [],
   "source": [
    "h=[]\n",
    "for  x in range(5):\n",
    "    ab=input(\"enter the student name :\")\n",
    "    h.append(ab)\n",
    "    if name==\"sacheen\""
   ]
  },
  {
   "cell_type": "code",
   "execution_count": 1,
   "metadata": {},
   "outputs": [
    {
     "name": "stdout",
     "output_type": "stream",
     "text": [
      "enter the student name :hj\n",
      "enter the student name :kj\n",
      "enter the student name :sacheen\n",
      "enter the marks:67\n",
      "enter the marks:98\n",
      "enter the marks:56\n",
      "enter the marks:77\n",
      "enter the marks:98\n",
      "['hj', 'kj', 'sacheen']\n",
      "[67, 98, 56, 77, 98]\n"
     ]
    }
   ],
   "source": [
    "h=[]\n",
    "marks=[]\n",
    "for x in range(5):\n",
    "    ab=input(\"enter the student name :\")\n",
    "    h.append(ab)\n",
    "    if ab==\"sacheen\":\n",
    "        for y in range(5):\n",
    "            g=int(input(\"enter the marks:\"))\n",
    "            marks.append(g)\n",
    "        break\n",
    "\n",
    "print(h)\n",
    "print(marks)"
   ]
  },
  {
   "cell_type": "code",
   "execution_count": 2,
   "metadata": {},
   "outputs": [
    {
     "name": "stdout",
     "output_type": "stream",
     "text": [
      "enter the student name :arpita\n",
      "enter the student name :sucheta\n",
      "enter the student name :keerti\n",
      "enter the student name :saki\n",
      "enter the student name :sacheen\n",
      "enter the marks:80\n",
      "enter the marks:89\n",
      "enter the marks:47\n",
      "enter the marks:23\n",
      "enter the marks:4\n",
      "['arpita', 'sucheta', 'keerti', 'saki', 'sacheen']\n",
      "[80, 89, 47, 23, 4]\n"
     ]
    }
   ],
   "source": [
    "h=[]\n",
    "marks=[]\n",
    "for x in range(5):\n",
    "    ab=input(\"enter the student name :\")\n",
    "    h.append(ab)\n",
    "    if ab==\"sacheen\":\n",
    "        for y in range(5):\n",
    "            g=int(input(\"enter the  marks:\"))\n",
    "            marks.append(g)\n",
    "        break\n",
    "\n",
    "print(h)\n",
    "print(marks)"
   ]
  },
  {
   "cell_type": "code",
   "execution_count": 4,
   "metadata": {},
   "outputs": [
    {
     "name": "stdout",
     "output_type": "stream",
     "text": [
      "enter the marks56\n",
      "pass\n"
     ]
    }
   ],
   "source": [
    "a=int(input(\"enter the marks\"))\n",
    "if a>=75:\n",
    "    print(\"destination\")\n",
    "elif a<75 and a>=35:\n",
    "    print(\"pass\")\n",
    "else:\n",
    "    print(\"fail\")"
   ]
  },
  {
   "cell_type": "code",
   "execution_count": 2,
   "metadata": {},
   "outputs": [
    {
     "name": "stdout",
     "output_type": "stream",
     "text": [
      "enter the marks67\n",
      "pass\n",
      "enter the marks78\n",
      "destination\n",
      "enter the marks23\n",
      "fail\n",
      "enter the marks43\n",
      "pass\n"
     ]
    }
   ],
   "source": [
    "for x in range(4):\n",
    "    a=int(input(\"enter the marks\"))\n",
    "    if a>=75:\n",
    "        print(\"destination\")\n",
    "    elif a<75 and a>=35:\n",
    "        print(\"pass\")\n",
    "    else:\n",
    "        print(\"fail\")"
   ]
  },
  {
   "cell_type": "markdown",
   "metadata": {},
   "source": [
    "\n",
    "for x in range(5):\n",
    "    a=int(input(\"enter the marks:\"))\n",
    "    marks.append(a)\n",
    "    print(\"marks\") \n",
    "        \n",
    "   \n",
    "        \n",
    "    "
   ]
  },
  {
   "cell_type": "code",
   "execution_count": 1,
   "metadata": {},
   "outputs": [
    {
     "name": "stdout",
     "output_type": "stream",
     "text": [
      "enter the marks :78\n",
      "[78]\n",
      "enter the marks :56\n",
      "[78, 56]\n",
      "enter the marks :67\n",
      "[78, 56, 67]\n",
      "enter the marks :78\n",
      "[78, 56, 67, 78]\n",
      "enter the marks :78\n",
      "[78, 56, 67, 78, 78]\n"
     ]
    }
   ],
   "source": [
    "mark=[]\n",
    "for x in range(5):\n",
    "    a=int(input(\"enter the marks :\"))\n",
    "    mark.append(a)\n",
    "    print(mark)"
   ]
  },
  {
   "cell_type": "code",
   "execution_count": 2,
   "metadata": {},
   "outputs": [],
   "source": [
    "ab=sum(mark)"
   ]
  },
  {
   "cell_type": "code",
   "execution_count": 3,
   "metadata": {},
   "outputs": [
    {
     "name": "stdout",
     "output_type": "stream",
     "text": [
      "357\n"
     ]
    }
   ],
   "source": [
    "print(ab)"
   ]
  },
  {
   "cell_type": "code",
   "execution_count": 4,
   "metadata": {},
   "outputs": [
    {
     "name": "stdout",
     "output_type": "stream",
     "text": [
      "71.4\n"
     ]
    }
   ],
   "source": [
    "avg=ab/5\n",
    "print(avg)"
   ]
  },
  {
   "cell_type": "code",
   "execution_count": 5,
   "metadata": {},
   "outputs": [
    {
     "name": "stdout",
     "output_type": "stream",
     "text": [
      "pass\n"
     ]
    }
   ],
   "source": [
    "if avg>=35 and avg<=75:\n",
    "    print(\"pass\")\n",
    "elif avg>75:\n",
    "    print(\"destination\")\n",
    "else:\n",
    "    print(\"fail\")"
   ]
  },
  {
   "cell_type": "code",
   "execution_count": 2,
   "metadata": {},
   "outputs": [
    {
     "name": "stdout",
     "output_type": "stream",
     "text": [
      "Enter the marks: 67\n",
      "Enter the marks: 87\n",
      "Enter the marks: 77\n",
      "Enter the marks: 89\n",
      "Enter the marks: 99\n",
      "[67, 87, 77, 89, 99]\n",
      "419\n",
      "83.8\n",
      "Pass\n"
     ]
    }
   ],
   "source": [
    "mark=[]\n",
    "for x in range(5):\n",
    "    a=int(input(\"Enter the marks: \"))\n",
    "    mark.append(a)\n",
    "    total=sum(mark)\n",
    "    avg=total/len(mark)\n",
    "    \n",
    "print(mark)\n",
    "print(total)\n",
    "print(avg)\n",
    "if avg<35:\n",
    "    print(\"Fail\")\n",
    "else:\n",
    "    print(\"Pass\")\n",
    "    \n",
    "    \n"
   ]
  },
  {
   "cell_type": "code",
   "execution_count": 8,
   "metadata": {},
   "outputs": [
    {
     "name": "stdout",
     "output_type": "stream",
     "text": [
      "even\n"
     ]
    }
   ],
   "source": [
    "a=10\n",
    "if a>=10:\n",
    "    print(\"even\")"
   ]
  },
  {
   "cell_type": "code",
   "execution_count": 9,
   "metadata": {},
   "outputs": [
    {
     "name": "stdout",
     "output_type": "stream",
     "text": [
      "small\n"
     ]
    }
   ],
   "source": [
    "a=45\n",
    "if a<50:\n",
    "    print(\"small\")"
   ]
  },
  {
   "cell_type": "code",
   "execution_count": 10,
   "metadata": {},
   "outputs": [
    {
     "name": "stdout",
     "output_type": "stream",
     "text": [
      "enter the number34\n"
     ]
    }
   ],
   "source": [
    "a=int(input(\"enter the number\"))\n",
    "if a<10 and a>=20:\n",
    "    print(\"small\")"
   ]
  },
  {
   "cell_type": "code",
   "execution_count": 1,
   "metadata": {},
   "outputs": [
    {
     "name": "stdout",
     "output_type": "stream",
     "text": [
      "enter the number:7\n",
      "big\n",
      "enter the number:12\n",
      "small\n",
      "enter the number:56\n",
      "big\n",
      "enter the number:20\n",
      "small\n",
      "enter the number:18\n",
      "small\n"
     ]
    }
   ],
   "source": [
    "for x in range(5):\n",
    "    a=int(input(\"enter the number:\"))\n",
    "    if a>10 and a<=20:\n",
    "        print(\"small\")\n",
    "    else:\n",
    "        print(\"big\")"
   ]
  },
  {
   "cell_type": "markdown",
   "metadata": {},
   "source": []
  },
  {
   "cell_type": "code",
   "execution_count": 6,
   "metadata": {},
   "outputs": [
    {
     "name": "stdout",
     "output_type": "stream",
     "text": [
      "enter the number67\n",
      "enter the number34\n",
      "enter the number56\n",
      "enter the number23\n",
      "greater no is : 67\n"
     ]
    }
   ],
   "source": [
    "a=int(input(\"enter the number\"))\n",
    "b=int(input(\"enter the number\"))\n",
    "c=int(input(\"enter the number\"))\n",
    "d=int(input(\"enter the number\"))\n",
    "if(a>b and a>c and a>c):\n",
    "    print(\"greater no is :\",a)\n",
    "elif(b>c and b>d):\n",
    "    print(\"greater no is :\",b)\n",
    "elif(c>d):\n",
    "    print(\"greater no is :\",c)\n",
    "else:\n",
    "     print(\"greater no is :\",d)"
   ]
  },
  {
   "cell_type": "code",
   "execution_count": 2,
   "metadata": {},
   "outputs": [
    {
     "name": "stdout",
     "output_type": "stream",
     "text": [
      "enter the number67\n",
      "kl\n"
     ]
    }
   ],
   "source": [
    "a=int(input(\"enter the number\"))\n",
    "if a>100 and a<=200:\n",
    "    print(\"sm\")\n",
    "else:\n",
    "    print(\"kl\")"
   ]
  },
  {
   "cell_type": "code",
   "execution_count": 4,
   "metadata": {},
   "outputs": [
    {
     "name": "stdout",
     "output_type": "stream",
     "text": [
      "enter the number78\n",
      "kl\n",
      "enter the number102\n",
      "sm\n",
      "enter the number67\n",
      "kl\n",
      "enter the number189\n",
      "sm\n"
     ]
    }
   ],
   "source": [
    "for x in range(4):\n",
    "    a=int(input(\"enter the number\"))\n",
    "    if a>100 and a<=200:\n",
    "        print(\"sm\")\n",
    "    else:\n",
    "        print(\"kl\")"
   ]
  },
  {
   "cell_type": "markdown",
   "metadata": {},
   "source": [
    "for x in range(3):\n"
   ]
  },
  {
   "cell_type": "code",
   "execution_count": 1,
   "metadata": {},
   "outputs": [
    {
     "name": "stdout",
     "output_type": "stream",
     "text": [
      "enter the number78\n",
      "destination\n",
      "enter the number45\n",
      "pass\n",
      "enter the number23\n",
      "fail\n"
     ]
    }
   ],
   "source": [
    "for x in range(3):\n",
    "    a=int(input(\"enter the number\"))\n",
    "    if a>=75 and a<=100:\n",
    "        print(\"destination\")\n",
    "    elif a>=35:\n",
    "        print(\"pass\")\n",
    "    else:\n",
    "        print(\"fail\")"
   ]
  },
  {
   "cell_type": "code",
   "execution_count": 1,
   "metadata": {},
   "outputs": [
    {
     "name": "stdout",
     "output_type": "stream",
     "text": [
      "enter the number %78\n",
      "mai destinated 78 %\n",
      "enter the number %45\n",
      "mai pass hoya 45 %\n",
      "enter the number %9\n",
      "mai fail hoya 9 %\n",
      "enter the number %456\n",
      "mai destinated 456 %\n"
     ]
    }
   ],
   "source": [
    "for x in range(4):\n",
    "    a=int(input(\"enter the number:  %\"))\n",
    "    if a>=35 and a<=75:\n",
    "        print(\"mai pass hoya\",a,\"%\")\n",
    "    elif a<35:\n",
    "        print(\"mai fail hoya\",a,\"%\")\n",
    "    else:\n",
    "        print(\"mai destinated\",a,\"%\")"
   ]
  },
  {
   "cell_type": "code",
   "execution_count": 2,
   "metadata": {},
   "outputs": [
    {
     "name": "stdout",
     "output_type": "stream",
     "text": [
      "enter the number %34\n",
      "mai fail hoya 34 %\n",
      "mai fail hoya 34 %\n",
      "enter the number %13\n",
      "mai fail hoya 13 %\n",
      "mai fail hoya 13 %\n",
      "enter the number %78\n",
      "mai destinated 78 %\n",
      "enter the number %67\n",
      "mai pass hoya 67 %\n",
      "mai pass hoya 67 %\n",
      "mai pass hoya 67 %\n"
     ]
    }
   ],
   "source": [
    "for x in range(4):\n",
    "    a=int(input(\"enter the number %\"))\n",
    "    if a>=35 and a<=75:\n",
    "        for x in range(3):\n",
    "            print(\"mai pass hoya\",a,\"%\")\n",
    "    elif a<35:\n",
    "        for x in range(2):\n",
    "            print(\"mai fail hoya\",a,\"%\")\n",
    "    else:\n",
    "        print(\"mai destinated\",a,\"%\")"
   ]
  },
  {
   "cell_type": "code",
   "execution_count": 4,
   "metadata": {},
   "outputs": [
    {
     "name": "stdout",
     "output_type": "stream",
     "text": [
      "enter the names:uk\n",
      "['uk']\n",
      "enter the names:ol\n",
      "['uk', 'ol']\n",
      "enter the names:sf\n",
      "['uk', 'ol', 'sf']\n"
     ]
    }
   ],
   "source": [
    "k=[]\n",
    "for x in range(3):\n",
    "    name=input(\"enter the names:\")\n",
    "    k.append(name)\n",
    "    print(k)"
   ]
  },
  {
   "cell_type": "code",
   "execution_count": 6,
   "metadata": {},
   "outputs": [
    {
     "data": {
      "text/plain": [
       "['uk', 'ol', 'sf']"
      ]
     },
     "execution_count": 6,
     "metadata": {},
     "output_type": "execute_result"
    }
   ],
   "source": [
    "k"
   ]
  },
  {
   "cell_type": "code",
   "execution_count": 7,
   "metadata": {},
   "outputs": [
    {
     "data": {
      "text/plain": [
       "'sf'"
      ]
     },
     "execution_count": 7,
     "metadata": {},
     "output_type": "execute_result"
    }
   ],
   "source": [
    "k.pop()"
   ]
  },
  {
   "cell_type": "code",
   "execution_count": 8,
   "metadata": {},
   "outputs": [
    {
     "data": {
      "text/plain": [
       "['uk', 'ol']"
      ]
     },
     "execution_count": 8,
     "metadata": {},
     "output_type": "execute_result"
    }
   ],
   "source": [
    "k"
   ]
  },
  {
   "cell_type": "code",
   "execution_count": 19,
   "metadata": {},
   "outputs": [],
   "source": [
    "k.insert(3,\"yk\")"
   ]
  },
  {
   "cell_type": "code",
   "execution_count": 20,
   "metadata": {},
   "outputs": [
    {
     "data": {
      "text/plain": [
       "['uk', 'ol', 'yk']"
      ]
     },
     "execution_count": 20,
     "metadata": {},
     "output_type": "execute_result"
    }
   ],
   "source": [
    "k"
   ]
  },
  {
   "cell_type": "code",
   "execution_count": 21,
   "metadata": {},
   "outputs": [
    {
     "data": {
      "text/plain": [
       "['uk', 'ol']"
      ]
     },
     "execution_count": 21,
     "metadata": {},
     "output_type": "execute_result"
    }
   ],
   "source": [
    "k.remove(\"yk\")\n",
    "k"
   ]
  },
  {
   "cell_type": "code",
   "execution_count": 23,
   "metadata": {},
   "outputs": [
    {
     "name": "stdout",
     "output_type": "stream",
     "text": [
      "257\n",
      "64.25\n"
     ]
    }
   ],
   "source": [
    "a=[18,67,89,83]\n",
    "ab=sum(a)\n",
    "avg=ab/len(a)\n",
    "print(ab)\n",
    "print(avg)"
   ]
  },
  {
   "cell_type": "code",
   "execution_count": 24,
   "metadata": {},
   "outputs": [
    {
     "name": "stdout",
     "output_type": "stream",
     "text": [
      "18\n",
      "87\n",
      "98\n",
      "67\n",
      "78\n"
     ]
    }
   ],
   "source": [
    "a=[18,87,98,67,78]\n",
    "for x in a:\n",
    "    print(x)"
   ]
  },
  {
   "cell_type": "code",
   "execution_count": 17,
   "metadata": {},
   "outputs": [
    {
     "name": "stdout",
     "output_type": "stream",
     "text": [
      "no 0 18\n",
      "no 1 78\n",
      "no 2 34\n",
      "no 3 67\n"
     ]
    }
   ],
   "source": [
    "a=[18,78,34,67]\n",
    "for x in a:\n",
    "    ab=a.index(x)\n",
    "    if ab==-2:\n",
    "        print(\"yes\",ab,x)\n",
    "    else:\n",
    "        print(\"no\",ab,x)"
   ]
  },
  {
   "cell_type": "code",
   "execution_count": 16,
   "metadata": {},
   "outputs": [
    {
     "name": "stdout",
     "output_type": "stream",
     "text": [
      "no 0\n",
      "no 1\n",
      "no 2\n",
      "yes 3\n",
      "no 4\n"
     ]
    }
   ],
   "source": [
    "name=[\"keerti\",\"Vijay\",\"pratika\",\"Kp\",\"Rohan\"]\n",
    "for x in name:\n",
    "    ab=name.index(x)\n",
    "    if ab==3:\n",
    "        print(\"yes\",ab)\n",
    "    else:\n",
    "        print(\"no\",ab)"
   ]
  },
  {
   "cell_type": "code",
   "execution_count": 1,
   "metadata": {},
   "outputs": [
    {
     "name": "stdout",
     "output_type": "stream",
     "text": [
      "no 0 18\n",
      "no 1 78\n",
      "no 2 34\n",
      "no 3 67\n"
     ]
    }
   ],
   "source": [
    "a=[18,78,34,67]\n",
    "for x in a:\n",
    "    ab=a.index(x)\n",
    "    if ab==-1:\n",
    "        print(\"yes\",ab,x)\n",
    "    else:\n",
    "        print(\"no\",ab,x)"
   ]
  },
  {
   "cell_type": "code",
   "execution_count": 5,
   "metadata": {},
   "outputs": [
    {
     "name": "stdout",
     "output_type": "stream",
     "text": [
      "no 0 keerti\n",
      "no 1 Vijay\n",
      "no 2 pratika\n",
      "no 3 Kp\n",
      "no 4 Rohan\n",
      "4\n"
     ]
    }
   ],
   "source": [
    "name=[\"keerti\",\"Vijay\",\"pratika\",\"Kp\",\"Rohan\"]\n",
    "\n",
    "for x in name:\n",
    "    ab=name.index(x)\n",
    "    if ab==-3:\n",
    "        print(\"yes\",ab,x)\n",
    "    else:\n",
    "        print(\"no\",ab,x)\n",
    "print(ab)"
   ]
  },
  {
   "cell_type": "code",
   "execution_count": 6,
   "metadata": {},
   "outputs": [
    {
     "name": "stdout",
     "output_type": "stream",
     "text": [
      "yes 2 siddu\n"
     ]
    }
   ],
   "source": [
    "name=[\"sacheen\",\"anil\",\"siddu\",\"shital\",\"vrushba\"]\n",
    "for x in name:\n",
    "    ab=name.index(x)\n",
    "    if ab==2:\n",
    "        if ab%2==0:\n",
    "            print(\"yes\",ab,x)\n",
    "        else:\n",
    "            print(\" i am odd\",ab,x)"
   ]
  },
  {
   "cell_type": "code",
   "execution_count": 24,
   "metadata": {},
   "outputs": [
    {
     "name": "stdout",
     "output_type": "stream",
     "text": [
      "yes 0 sacheen\n",
      " i am odd 1 anil\n",
      "yes 2 siddu\n",
      " i am odd 3 shital\n",
      "yes 4 vrushba\n"
     ]
    }
   ],
   "source": [
    "name=[\"sacheen\",\"anil\",\"siddu\",\"shital\",\"vrushba\"]\n",
    "for x in name:\n",
    "    ab=name.index(x)\n",
    "    \n",
    "    if ab%2==0:\n",
    "        print(\"yes\",ab,x)\n",
    "    else:\n",
    "        print(\" i am odd\",ab,x)"
   ]
  },
  {
   "cell_type": "code",
   "execution_count": 31,
   "metadata": {},
   "outputs": [
    {
     "name": "stdout",
     "output_type": "stream",
     "text": [
      " i am odd sacheen 5\n",
      " i am odd anil 5\n",
      " i am odd siddu 5\n",
      " i am odd shital 5\n",
      " i am odd vrushba 5\n",
      "['sacheen', 'anil', 'siddu', 'shital', 'vrushba']\n"
     ]
    }
   ],
   "source": [
    "name=[\"sacheen\",\"anil\",\"siddu\",\"shital\",\"vrushba\"]\n",
    "for x in name:\n",
    "    v=len(name)\n",
    "    if v%2==0:\n",
    "        print(\"yes\",x,v)\n",
    "    else:\n",
    "        print(\" i am odd\",x,v)\n",
    "print(name)"
   ]
  },
  {
   "cell_type": "code",
   "execution_count": 27,
   "metadata": {},
   "outputs": [
    {
     "name": "stdout",
     "output_type": "stream",
     "text": [
      "7\n"
     ]
    }
   ],
   "source": [
    "a=\"sacheen\"\n",
    "ab=len(a)\n",
    "print(ab)"
   ]
  },
  {
   "cell_type": "code",
   "execution_count": 33,
   "metadata": {},
   "outputs": [
    {
     "name": "stdout",
     "output_type": "stream",
     "text": [
      "yes sacheen 7\n",
      " i am odd anil 4\n",
      "yes siddu 5\n",
      " i am odd shital 6\n",
      "yes vrushba 7\n",
      "['sacheen', 'anil', 'siddu', 'shital', 'vrushba']\n"
     ]
    }
   ],
   "source": [
    "name=[\"sacheen\",\"anil\",\"siddu\",\"shital\",\"vrushba\"]\n",
    "for x in name:\n",
    "    v=len(x)\n",
    "    if v%2!=0:\n",
    "        print(\"yes\",x,v)\n",
    "    else:\n",
    "        print(\" i am odd\",x,v)\n",
    "print(name)"
   ]
  },
  {
   "cell_type": "code",
   "execution_count": 34,
   "metadata": {},
   "outputs": [
    {
     "name": "stdout",
     "output_type": "stream",
     "text": [
      "yes sacheen 5 ['sacheen', 'anil', 'siddu', 'shital', 'vrushba']\n",
      "yes anil 5 ['sacheen', 'anil', 'siddu', 'shital', 'vrushba']\n",
      "yes siddu 5 ['sacheen', 'anil', 'siddu', 'shital', 'vrushba']\n",
      "yes shital 5 ['sacheen', 'anil', 'siddu', 'shital', 'vrushba']\n",
      "yes vrushba 5 ['sacheen', 'anil', 'siddu', 'shital', 'vrushba']\n",
      "['sacheen', 'anil', 'siddu', 'shital', 'vrushba']\n"
     ]
    }
   ],
   "source": [
    "name=[\"sacheen\",\"anil\",\"siddu\",\"shital\",\"vrushba\"]\n",
    "for x in name:\n",
    "    v=len(name)\n",
    "    if v%2!=0:\n",
    "        print(\"yes\",x,v,name)\n",
    "    else:\n",
    "        print(\" i am odd\",x,v,name)\n",
    "print(name)"
   ]
  },
  {
   "cell_type": "code",
   "execution_count": 35,
   "metadata": {},
   "outputs": [
    {
     "name": "stdout",
     "output_type": "stream",
     "text": [
      " i am odd sacheen 5 ['sacheen', 'anil', 'siddu', 'shital', 'vrushba']\n",
      " i am odd anil 5 ['sacheen', 'anil', 'siddu', 'shital', 'vrushba']\n",
      " i am odd siddu 5 ['sacheen', 'anil', 'siddu', 'shital', 'vrushba']\n",
      " i am odd shital 5 ['sacheen', 'anil', 'siddu', 'shital', 'vrushba']\n",
      " i am odd vrushba 5 ['sacheen', 'anil', 'siddu', 'shital', 'vrushba']\n",
      "['sacheen', 'anil', 'siddu', 'shital', 'vrushba']\n"
     ]
    }
   ],
   "source": [
    "name=[\"sacheen\",\"anil\",\"siddu\",\"shital\",\"vrushba\"]\n",
    "for x in name:\n",
    "    v=len(name)\n",
    "    if v%2==0:\n",
    "        print(\"yes\",x,v,name)\n",
    "    else:\n",
    "        print(\" i am odd\",x,v,name)\n",
    "print(name)"
   ]
  },
  {
   "cell_type": "code",
   "execution_count": 39,
   "metadata": {},
   "outputs": [
    {
     "name": "stdout",
     "output_type": "stream",
     "text": [
      "yes sacheen 7\n",
      "sacheen\n",
      " i am odd anil 4\n",
      "anil\n",
      "yes siddu 5\n",
      "siddu\n",
      " i am odd shital 6\n",
      "shital\n",
      "yes vrushba 7\n",
      "vrushba\n",
      "['sacheen', 'anil', 'siddu', 'shital', 'vrushba']\n"
     ]
    }
   ],
   "source": [
    "name=[\"sacheen\",\"anil\",\"siddu\",\"shital\",\"vrushba\"]\n",
    "for x in name:\n",
    "    v=len(x)\n",
    "    if v%2!=0:\n",
    "        print(\"yes\",x,v)\n",
    "        print(x)\n",
    "    else:\n",
    "        print(\" i am odd\",x,v)\n",
    "        print(x)\n",
    "print(name)"
   ]
  },
  {
   "cell_type": "code",
   "execution_count": 40,
   "metadata": {},
   "outputs": [
    {
     "name": "stdout",
     "output_type": "stream",
     "text": [
      " i am odd sacheen 7\n",
      "sacheen\n",
      "yes anil 4\n",
      "anil\n",
      " i am odd siddu 5\n",
      "siddu\n",
      "yes shital 6\n",
      "shital\n",
      " i am odd vrushba 7\n",
      "vrushba\n",
      "['sacheen', 'anil', 'siddu', 'shital', 'vrushba']\n"
     ]
    }
   ],
   "source": [
    "name=[\"sacheen\",\"anil\",\"siddu\",\"shital\",\"vrushba\"]\n",
    "for x in name:\n",
    "    v=len(x)\n",
    "    if v%2==0:\n",
    "        print(\"yes\",x,v)\n",
    "        print(x)\n",
    "    else:\n",
    "        print(\" i am odd\",x,v)\n",
    "        print(x)\n",
    "print(name)"
   ]
  },
  {
   "cell_type": "code",
   "execution_count": 46,
   "metadata": {},
   "outputs": [
    {
     "name": "stdout",
     "output_type": "stream",
     "text": [
      "['mahi', 'manju']\n",
      "['divya', 'Arpita']\n"
     ]
    }
   ],
   "source": [
    "hostel=[\"sarita\",\"divya\",\"mahi\",\"manju\",\"kiran\",\"Arpita\",\"hljk\"]\n",
    "boy=[\"mahi\",\"manju\"]\n",
    "girl=[\"divya\",\"Arpita\"]\n",
    "\n",
    "boy_hostel=[]\n",
    "girl_hostel=[]\n",
    "\n",
    "for x in hostel:\n",
    "    for b in boy:\n",
    "        if x==b:\n",
    "            boy_hostel.append(x)\n",
    "    for g in girl:\n",
    "        if x==g:\n",
    "            girl_hostel.append(x)\n",
    "print(boy_hostel)\n",
    "print(girl_hostel)\n",
    "    "
   ]
  },
  {
   "cell_type": "code",
   "execution_count": 59,
   "metadata": {},
   "outputs": [
    {
     "name": "stdout",
     "output_type": "stream",
     "text": [
      "['mahi', 'manju']\n",
      "['divya', 'Arpita']\n",
      "[]\n"
     ]
    }
   ],
   "source": [
    "hostel=[\"sarita\",\"divya\",\"mahi\",\"manju\",\"kiran\",\"Arpita\",\"hljk\"]\n",
    "boy=[\"mahi\",\"manju\"]\n",
    "girl=[\"divya\",\"Arpita\"]\n",
    "\n",
    "boy_hostel=[]\n",
    "girl_hostel=[]\n",
    "not_col=[]\n",
    "\n",
    "for x in hostel:\n",
    "    for b in boy:\n",
    "        if x==b:\n",
    "            boy_hostel.append(x)\n",
    "    for g in girl:\n",
    "         if x==g:\n",
    "            girl_hostel.append(x)\n",
    "\n",
    "                \n",
    "print(boy_hostel)\n",
    "print(girl_hostel)\n",
    "print(not_col)\n",
    "    "
   ]
  },
  {
   "cell_type": "code",
   "execution_count": 62,
   "metadata": {},
   "outputs": [
    {
     "name": "stdout",
     "output_type": "stream",
     "text": [
      "i am in sarita\n",
      "i am in divya\n",
      "i am in mahi\n",
      "i am in manju\n",
      "i am in kiran\n",
      "i am in Arpita\n",
      "i am in hljk\n",
      "['mahi', 'manju']\n",
      "['divya', 'Arpita']\n",
      "[]\n"
     ]
    }
   ],
   "source": [
    "hostel=[\"sarita\",\"divya\",\"mahi\",\"manju\",\"kiran\",\"Arpita\",\"hljk\"]\n",
    "boy=[\"mahi\",\"manju\"]\n",
    "girl=[\"divya\",\"Arpita\"]\n",
    "\n",
    "boy_hostel=[]\n",
    "girl_hostel=[]\n",
    "not_col=[]\n",
    "\n",
    "for x in hostel:\n",
    "    print(\"i am in\", x)\n",
    "    for b in boy:\n",
    "        if x==b:\n",
    "            boy_hostel.append(x)\n",
    "    for g in girl:\n",
    "         if x==g:\n",
    "            girl_hostel.append(x)\n",
    "\n",
    "                \n",
    "print(boy_hostel)\n",
    "print(girl_hostel)\n",
    "print(not_col)\n",
    "    "
   ]
  },
  {
   "cell_type": "code",
   "execution_count": 65,
   "metadata": {},
   "outputs": [
    {
     "name": "stdout",
     "output_type": "stream",
     "text": [
      "['sarita', 'divya', 'mahi', 'manju', 'kiran', 'Arpita', 'hljk']\n",
      "['sarita', 'divya', 'mahi', 'manju', 'kiran', 'Arpita', 'hljk']\n",
      "[]\n"
     ]
    }
   ],
   "source": [
    "hostel=[\"sarita\",\"divya\",\"mahi\",\"manju\",\"kiran\",\"Arpita\",\"hljk\"]\n",
    "boy=[\"mahi\",\"manju\"]\n",
    "girl=[\"divya\",\"Arpita\"]\n",
    "\n",
    "boy_hostel=[]\n",
    "girl_hostel=[]\n",
    "not_col=[]\n",
    "\n",
    "for x in hostel:\n",
    "    for b in boy:\n",
    "        ab=len(b)\n",
    "        if ab%2==0:\n",
    "            boy_hostel.append(x)\n",
    "    for g in girl:\n",
    "        ax=len(g)\n",
    "        if ax%2==0:\n",
    "            girl_hostel.append(x)\n",
    "\n",
    "                \n",
    "print(boy_hostel)\n",
    "print(girl_hostel)\n",
    "print(not_col)\n",
    "    "
   ]
  },
  {
   "cell_type": "code",
   "execution_count": 66,
   "metadata": {},
   "outputs": [
    {
     "name": "stdout",
     "output_type": "stream",
     "text": [
      "sarita 4 mahi\n",
      "sarita 6 Arpita\n",
      "divya 4 mahi\n",
      "divya 6 Arpita\n",
      "mahi 4 mahi\n",
      "mahi 6 Arpita\n",
      "manju 4 mahi\n",
      "manju 6 Arpita\n",
      "kiran 4 mahi\n",
      "kiran 6 Arpita\n",
      "Arpita 4 mahi\n",
      "Arpita 6 Arpita\n",
      "hljk 4 mahi\n",
      "hljk 6 Arpita\n",
      "['sarita', 'divya', 'mahi', 'manju', 'kiran', 'Arpita', 'hljk']\n",
      "['sarita', 'divya', 'mahi', 'manju', 'kiran', 'Arpita', 'hljk']\n",
      "[]\n"
     ]
    }
   ],
   "source": [
    "hostel=[\"sarita\",\"divya\",\"mahi\",\"manju\",\"kiran\",\"Arpita\",\"hljk\"]\n",
    "boy=[\"mahi\",\"manju\"]\n",
    "girl=[\"divya\",\"Arpita\"]\n",
    "\n",
    "boy_hostel=[]\n",
    "girl_hostel=[]\n",
    "not_col=[]\n",
    "\n",
    "for x in hostel:\n",
    "    for b in boy:\n",
    "        ab=len(b)\n",
    "        if ab%2==0:\n",
    "            boy_hostel.append(x)\n",
    "            print(x,ab,b)\n",
    "    for g in girl:\n",
    "        ax=len(g)\n",
    "        if ax%2==0:\n",
    "            girl_hostel.append(x)\n",
    "            print(x,ax,g)\n",
    "\n",
    "                \n",
    "print(boy_hostel)\n",
    "print(girl_hostel)\n",
    "print(not_col)\n",
    "    "
   ]
  },
  {
   "cell_type": "code",
   "execution_count": 67,
   "metadata": {},
   "outputs": [
    {
     "name": "stdout",
     "output_type": "stream",
     "text": [
      "mahi 4 mahi\n",
      "Arpita 6 Arpita\n",
      "['mahi']\n",
      "['Arpita']\n",
      "[]\n"
     ]
    }
   ],
   "source": [
    "hostel=[\"sarita\",\"divya\",\"mahi\",\"manju\",\"kiran\",\"Arpita\",\"hljk\"]\n",
    "boy=[\"mahi\",\"manju\"]\n",
    "girl=[\"divya\",\"Arpita\"]\n",
    "\n",
    "boy_hostel=[]\n",
    "girl_hostel=[]\n",
    "not_col=[]\n",
    "\n",
    "for x in hostel:\n",
    "    for b in boy:\n",
    "        if x==b:\n",
    "            ab=len(b)\n",
    "            if ab%2==0:\n",
    "                boy_hostel.append(x)\n",
    "                print(x,ab,b)\n",
    "    for g in girl:\n",
    "        if x==g:\n",
    "            ax=len(g)\n",
    "            if ax%2==0:\n",
    "                girl_hostel.append(x)\n",
    "                print(x,ax,g)\n",
    "\n",
    "                \n",
    "print(boy_hostel)\n",
    "print(girl_hostel)\n",
    "print(not_col)\n",
    "    "
   ]
  },
  {
   "cell_type": "code",
   "execution_count": 68,
   "metadata": {},
   "outputs": [
    {
     "name": "stdout",
     "output_type": "stream",
     "text": [
      "sarita 4 mahi\n",
      "sarita 6 Arpita\n",
      "divya 4 mahi\n",
      "divya 6 Arpita\n",
      "mahi 4 mahi\n",
      "mahi 6 Arpita\n",
      "manju 4 mahi\n",
      "manju 6 Arpita\n",
      "kiran 4 mahi\n",
      "kiran 6 Arpita\n",
      "Arpita 4 mahi\n",
      "Arpita 6 Arpita\n",
      "hljk 4 mahi\n",
      "hljk 6 Arpita\n",
      "['sarita', 'divya', 'mahi', 'manju', 'kiran', 'Arpita', 'hljk']\n",
      "['sarita', 'divya', 'mahi', 'manju', 'kiran', 'Arpita', 'hljk']\n",
      "[]\n"
     ]
    }
   ],
   "source": [
    "hostel=[\"sarita\",\"divya\",\"mahi\",\"manju\",\"kiran\",\"Arpita\",\"hljk\"]\n",
    "boy=[\"mahi\",\"manju\"]\n",
    "girl=[\"divya\",\"Arpita\"]\n",
    "\n",
    "boy_hostel=[]\n",
    "girl_hostel=[]\n",
    "not_col=[]\n",
    "\n",
    "for x in hostel:\n",
    "    for b in boy:\n",
    "        ab=len(b)\n",
    "        if ab%2==0:\n",
    "            boy_hostel.append(x)\n",
    "            print(x,ab,b)\n",
    "    for g in girl:\n",
    "        ax=len(g)\n",
    "        if ax%2==0:\n",
    "            girl_hostel.append(x)\n",
    "            print(x,ax,g)\n",
    "\n",
    "                \n",
    "print(boy_hostel)\n",
    "print(girl_hostel)\n",
    "print(not_col)\n",
    "    "
   ]
  },
  {
   "cell_type": "code",
   "execution_count": 75,
   "metadata": {},
   "outputs": [
    {
     "name": "stdout",
     "output_type": "stream",
     "text": [
      "not college\n",
      "girls divya\n",
      "boys manju\n",
      "not college\n",
      "[]\n",
      "['Arpita']\n",
      "['sarita', 'divya', 'manju', 'hljk']\n"
     ]
    }
   ],
   "source": [
    "hostel=[\"sarita\",\"divya\",\"mahi\",\"manju\",\"kiran\",\"Arpita\",\"hljk\"]\n",
    "boy=[\"mahi\",\"manju\"]\n",
    "girl=[\"divya\",\"Arpita\"]\n",
    "\n",
    "boy_hostel=[]\n",
    "girl_hostel=[]\n",
    "not_col=[]\n",
    "\n",
    "for x in hostel:\n",
    "    if x in boy:\n",
    "        ab=len(x)\n",
    "        if ab%2==0:\n",
    "            boy_hostel.append(x)\n",
    "        else:\n",
    "            hostel.remove(x)\n",
    "            print(\"boys\",x)\n",
    "            not_col.append(x)\n",
    "    elif x in girl:\n",
    "        ab=len(x)\n",
    "        if ab%2==0:\n",
    "            girl_hostel.append(x)\n",
    "        else:\n",
    "            hostel.remove(x)\n",
    "            print(\"girls\",x)\n",
    "            not_col.append(x)\n",
    "    else:\n",
    "        print(\"not college\")\n",
    "        not_col.append(x)\n",
    "                \n",
    "print(boy_hostel)\n",
    "print(girl_hostel)\n",
    "print(not_col)\n",
    "    "
   ]
  },
  {
   "cell_type": "code",
   "execution_count": 82,
   "metadata": {},
   "outputs": [
    {
     "name": "stdout",
     "output_type": "stream",
     "text": [
      "not college\n",
      "girls divya\n",
      "boys manju\n",
      "not college\n",
      "[]\n",
      "['Arpita']\n",
      "['sarita', 'divya', 'manju', 'hljk']\n"
     ]
    }
   ],
   "source": [
    "hostel=[\"sarita\",\"divya\",\"mahi\",\"manju\",\"kiran\",\"Arpita\",\"hljk\"]\n",
    "boy=[\"mahi\",\"manju\"]\n",
    "girl=[\"divya\",\"Arpita\"]\n",
    "\n",
    "boy_hostel=[]\n",
    "girl_hostel=[]\n",
    "not_col=[]\n",
    "\n",
    "for x in hostel:\n",
    "    if x in boy:\n",
    "        ab=len(x)\n",
    "        if ab%2==0:\n",
    "            boy_hostel.append(x)\n",
    "        else:\n",
    "            hostel.remove(x)\n",
    "            print(\"boys\",x)\n",
    "            not_col.append(x)\n",
    "    elif x in girl:\n",
    "        ab=len(x)\n",
    "        if ab%2==0:\n",
    "            girl_hostel.append(x)\n",
    "        else:\n",
    "            hostel.remove(x)\n",
    "            print(\"girls\",x)\n",
    "            not_col.append(x)\n",
    "    else:\n",
    "        print(\"not college\")\n",
    "        not_col.append(x)\n",
    "                \n",
    "print(boy_hostel)\n",
    "print(girl_hostel)\n",
    "print(not_col)\n",
    "    "
   ]
  },
  {
   "cell_type": "code",
   "execution_count": 84,
   "metadata": {},
   "outputs": [
    {
     "name": "stdout",
     "output_type": "stream",
     "text": [
      "me ti\n",
      "jk keer\n",
      "me ik\n",
      "jk hard\n",
      "me hi\n",
      "jk ma\n",
      "me na\n",
      "jk mee\n",
      "['tikeer', 'ikhard', 'hima', 'namee']\n"
     ]
    }
   ],
   "source": [
    "name=[\"keerti\",\"hardik\",\"mahi\",\"meena\"]\n",
    "k=[]\n",
    "for x in name:\n",
    "    ab=x[-2:]\n",
    "    ab1=x[:-2]\n",
    "    print(\"me\",ab)\n",
    "    print(\"jk\",ab1)\n",
    "    nk=ab+ab1\n",
    "    k.append(nk)\n",
    "print(k)"
   ]
  },
  {
   "cell_type": "code",
   "execution_count": 87,
   "metadata": {},
   "outputs": [
    {
     "name": "stdout",
     "output_type": "stream",
     "text": [
      "i am: seema\n",
      "i am: keerti\n",
      "i am: meena\n"
     ]
    }
   ],
   "source": [
    "name=[\"seema\",\"keerti\",\"meena\",\"sacheen\",\"hardik\",\"mahi\"]\n",
    "for x in name:\n",
    "    x1=x[2]\n",
    "    if x1==\"e\":\n",
    "        print(\"i am:\",x)\n",
    "    "
   ]
  },
  {
   "cell_type": "code",
   "execution_count": 94,
   "metadata": {},
   "outputs": [
    {
     "name": "stdout",
     "output_type": "stream",
     "text": [
      "i am: seema\n",
      "i am: seema\n",
      "i am: keerti\n",
      "i am: keerti\n",
      "i am: meena\n",
      "i am: meena\n",
      "i am: sacheen\n",
      "i am: sacheen\n"
     ]
    }
   ],
   "source": [
    "name=[\"seema\",\"keerti\",\"meena\",\"sacheen\",\"hardik\",\"mahi\"]\n",
    "for x in name:\n",
    "    for x1 in x:\n",
    "            if x1==\"e\":\n",
    "                 print(\"i am:\",x)\n",
    "    "
   ]
  },
  {
   "cell_type": "code",
   "execution_count": 95,
   "metadata": {},
   "outputs": [
    {
     "name": "stdout",
     "output_type": "stream",
     "text": [
      "i am: sacheen\n"
     ]
    }
   ],
   "source": [
    "name=[\"seema\",\"keerti\",\"meena\",\"sacheen\",\"hardik\",\"mahi\"]\n",
    "for x in name:\n",
    "    x1=x[-2]\n",
    "    if x1==\"e\":\n",
    "        print(\"i am:\",x)\n",
    "    "
   ]
  },
  {
   "cell_type": "code",
   "execution_count": 97,
   "metadata": {},
   "outputs": [
    {
     "name": "stdout",
     "output_type": "stream",
     "text": [
      "i am: keerti\n",
      "i am: mahi\n"
     ]
    }
   ],
   "source": [
    "name=[\"seema\",\"keerti\",\"meena\",\"sacheen\",\"hardik\",\"mahi\"]\n",
    "for x in name:\n",
    "    x1=x[-1]\n",
    "    if x1==\"i\":\n",
    "        print(\"i am:\",x)\n",
    "    "
   ]
  },
  {
   "cell_type": "code",
   "execution_count": null,
   "metadata": {},
   "outputs": [],
   "source": []
  }
 ],
 "metadata": {
  "kernelspec": {
   "display_name": "Python 3",
   "language": "python",
   "name": "python3"
  },
  "language_info": {
   "codemirror_mode": {
    "name": "ipython",
    "version": 3
   },
   "file_extension": ".py",
   "mimetype": "text/x-python",
   "name": "python",
   "nbconvert_exporter": "python",
   "pygments_lexer": "ipython3",
   "version": "3.6.5"
  }
 },
 "nbformat": 4,
 "nbformat_minor": 2
}
