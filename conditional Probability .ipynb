{
 "cells": [
  {
   "cell_type": "markdown",
   "metadata": {},
   "source": [
    "Conditional Probability Examples:\n",
    "    *  Two dies are thrown simultaneously and the sum of the numbers obtained\n",
    "      is found to be 7\n",
    "        outcomes=6*6=36\n",
    "        a={(1,6),(2,5),(3,4),(4,3),(5,2),(6,1)}\n",
    "        P(a)=6/36\n",
    "        \n",
    "    * one dice\n",
    "    dice=[1,2,3,4,5]\n",
    "    P(2)=1/6\n",
    "    p(2/even)=[2,4,6]=1/3\n",
    "    p(4/odd)=0\n",
    "    p(even/2)=[2]=1/1=1\n",
    "    \n",
    "    *card\n",
    "    p(single card/red)=1/26\n",
    "    p(single card/ heart)=1/13\n",
    "    p(king card/ heart)=1/13\n",
    "    p(king card/ black)=2/26\n",
    "    p(queen/face card)=4/12\n",
    "    p(face card/queen)=4/4=1\n",
    "    p(face card)=12/52\n",
    "    \n",
    "    * 2 coin toss at time{HH,TT,HT,TH}\n",
    "    p(both head)=1/4\n",
    "    p(atleast one head)=3/4\n",
    "    P(only tail)=1/4\n",
    "    \n",
    "    * there are 5 red chip, 4 blue chip, and 6 white chips in basket.\n",
    "    \n",
    "    p(selectin a red chip/ chip is blue=)5/4"
   ]
  },
  {
   "cell_type": "code",
   "execution_count": null,
   "metadata": {},
   "outputs": [],
   "source": []
  }
 ],
 "metadata": {
  "kernelspec": {
   "display_name": "Python 3",
   "language": "python",
   "name": "python3"
  },
  "language_info": {
   "codemirror_mode": {
    "name": "ipython",
    "version": 3
   },
   "file_extension": ".py",
   "mimetype": "text/x-python",
   "name": "python",
   "nbconvert_exporter": "python",
   "pygments_lexer": "ipython3",
   "version": "3.6.5"
  }
 },
 "nbformat": 4,
 "nbformat_minor": 2
}
